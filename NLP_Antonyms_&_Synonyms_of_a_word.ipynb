{
  "nbformat": 4,
  "nbformat_minor": 0,
  "metadata": {
    "colab": {
      "provenance": [],
      "authorship_tag": "ABX9TyMVLekvWJia00FxjCtGMTWh",
      "include_colab_link": true
    },
    "kernelspec": {
      "name": "python3",
      "display_name": "Python 3"
    },
    "language_info": {
      "name": "python"
    }
  },
  "cells": [
    {
      "cell_type": "markdown",
      "metadata": {
        "id": "view-in-github",
        "colab_type": "text"
      },
      "source": [
        "<a href=\"https://colab.research.google.com/github/snehavyshnavi/Natural-Language-Processing/blob/main/NLP_Antonyms_%26_Synonyms_of_a_word.ipynb\" target=\"_parent\"><img src=\"https://colab.research.google.com/assets/colab-badge.svg\" alt=\"Open In Colab\"/></a>"
      ]
    },
    {
      "cell_type": "code",
      "execution_count": null,
      "metadata": {
        "colab": {
          "base_uri": "https://localhost:8080/"
        },
        "id": "9kzSXIs9zRui",
        "outputId": "0a95684f-b38b-46ed-a940-8a2d1a062e5d"
      },
      "outputs": [
        {
          "output_type": "stream",
          "name": "stderr",
          "text": [
            "[nltk_data] Downloading package wordnet to /root/nltk_data...\n",
            "[nltk_data] Downloading package omw-1.4 to /root/nltk_data...\n"
          ]
        },
        {
          "output_type": "stream",
          "name": "stdout",
          "text": [
            "Synonyms of 'good': {'secure', 'commodity', 'just', 'sound', 'in_force', 'ripe', 'unspoilt', 'dear', 'proficient', 'unspoiled', 'serious', 'safe', 'goodness', 'soundly', 'in_effect', 'skillful', 'right', 'practiced', 'respectable', 'near', 'estimable', 'skilful', 'undecomposed', 'upright', 'thoroughly', 'effective', 'salutary', 'adept', 'well', 'honest', 'trade_good', 'full', 'honorable', 'expert', 'dependable', 'beneficial', 'good'}\n",
            "Antonyms of 'good': {'bad', 'evilness', 'ill', 'evil', 'badness'}\n"
          ]
        }
      ],
      "source": [
        "import nltk\n",
        "from nltk.corpus import wordnet\n",
        "\n",
        "nltk.download('wordnet')\n",
        "nltk.download('omw-1.4')\n",
        "\n",
        "def get_synonyms_antonyms(word):\n",
        "    synonyms = set()\n",
        "    antonyms = set()\n",
        "    for syn in wordnet.synsets(word):\n",
        "      for lemma in syn.lemmas():\n",
        "        synonyms.add(lemma.name())\n",
        "        if lemma.antonyms():\n",
        "          for ant in lemma.antonyms():\n",
        "            antonyms.add(ant.name())\n",
        "\n",
        "    return synonyms, antonyms\n",
        "\n",
        "word = \"good\"\n",
        "synonyms, antonyms = get_synonyms_antonyms(word)\n",
        "print(f\"Synonyms of '{word}': {synonyms}\")\n",
        "print(f\"Antonyms of '{word}': {antonyms}\")\n"
      ]
    },
    {
      "cell_type": "code",
      "source": [
        "word = \"good\"\n",
        "synonyms, antonyms = get_synonyms_antonyms(word)\n",
        "\n",
        "\n",
        "print(f\"Word: {word}\")\n",
        "print(f\"\\nSynonyms:\")\n",
        "print(\",\".join(sorted(synonyms)) if synonyms else \"None found\")\n",
        "print(f\"\\nAntonyms:\")\n",
        "print(\",\".join(sorted(antonyms)) if antonyms else \"None found\")"
      ],
      "metadata": {
        "colab": {
          "base_uri": "https://localhost:8080/"
        },
        "id": "3uUnlNab64ZS",
        "outputId": "245dd655-a16f-41d9-8999-8f15791c38ad"
      },
      "execution_count": null,
      "outputs": [
        {
          "output_type": "stream",
          "name": "stdout",
          "text": [
            "Word: good\n",
            "\n",
            "Synonyms:\n",
            "adept,beneficial,commodity,dear,dependable,effective,estimable,expert,full,good,goodness,honest,honorable,in_effect,in_force,just,near,practiced,proficient,respectable,right,ripe,safe,salutary,secure,serious,skilful,skillful,sound,soundly,thoroughly,trade_good,undecomposed,unspoiled,unspoilt,upright,well\n",
            "\n",
            "Antonyms:\n",
            "bad,badness,evil,evilness,ill\n"
          ]
        }
      ]
    }
  ]
}