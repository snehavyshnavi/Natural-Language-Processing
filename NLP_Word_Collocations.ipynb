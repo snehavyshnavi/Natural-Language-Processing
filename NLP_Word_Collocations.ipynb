{
  "nbformat": 4,
  "nbformat_minor": 0,
  "metadata": {
    "colab": {
      "provenance": [],
      "authorship_tag": "ABX9TyOdzEqMZrOKJVia2eJFFBJ9",
      "include_colab_link": true
    },
    "kernelspec": {
      "name": "python3",
      "display_name": "Python 3"
    },
    "language_info": {
      "name": "python"
    }
  },
  "cells": [
    {
      "cell_type": "markdown",
      "metadata": {
        "id": "view-in-github",
        "colab_type": "text"
      },
      "source": [
        "<a href=\"https://colab.research.google.com/github/snehavyshnavi/Natural-Language-Processing/blob/main/NLP_Word_Collocations.ipynb\" target=\"_parent\"><img src=\"https://colab.research.google.com/assets/colab-badge.svg\" alt=\"Open In Colab\"/></a>"
      ]
    },
    {
      "cell_type": "code",
      "execution_count": null,
      "metadata": {
        "colab": {
          "base_uri": "https://localhost:8080/"
        },
        "id": "IJACVEVN2TQ1",
        "outputId": "71801aad-9491-4821-932a-405f724a6a9f"
      },
      "outputs": [
        {
          "output_type": "stream",
          "name": "stdout",
          "text": [
            "Requirement already satisfied: nltk in /usr/local/lib/python3.11/dist-packages (3.9.1)\n",
            "Requirement already satisfied: click in /usr/local/lib/python3.11/dist-packages (from nltk) (8.2.1)\n",
            "Requirement already satisfied: joblib in /usr/local/lib/python3.11/dist-packages (from nltk) (1.5.1)\n",
            "Requirement already satisfied: regex>=2021.8.3 in /usr/local/lib/python3.11/dist-packages (from nltk) (2024.11.6)\n",
            "Requirement already satisfied: tqdm in /usr/local/lib/python3.11/dist-packages (from nltk) (4.67.1)\n"
          ]
        }
      ],
      "source": [
        "pip install nltk"
      ]
    },
    {
      "cell_type": "code",
      "source": [
        "import nltk\n",
        "from nltk.collocations\\\n",
        " import BigramCollocationFinder,\\\n",
        "      TrigramCollocationFinder\n",
        "from nltk.metrics import BigramAssocMeasures, TrigramAssocMeasures\n",
        "from nltk.corpus import stopwords\n",
        "import string\n",
        "\n",
        "\n",
        "#Download NLTK resources (run once)\n",
        "nltk.download('punkt_tab')\n",
        "nltk.download('stopwords')\n",
        "\n",
        "\n",
        "#Sample text\n",
        "text=\"\"\"\n",
        "Natural language processing is a fascinating area of artificial intelligence.\n",
        "It deals with how computers understand and generate human language.\n",
        "Word collocations are pairs of words that appear together more often than by chance.\n",
        "For example, 'artificial intelligence', 'machine learning', and 'deep learning'.\n",
        "\"\"\"\n",
        "#convert list into text of words\n",
        "tokens=nltk.word_tokenize(text.lower())\n",
        "\n",
        "#Remove puctuation and stopwords\n",
        "stop_words=set(stopwords.words('english'))\n",
        "filtered_tokens=[t for t in tokens if t not in stop_words and t not in string.punctuation]\n",
        "\n",
        "#BIGRAMS\n",
        "print(\"\\n=== 📌 TOP BIGRAM COLLOCATIONS (with PMI scores)===\\n \")\n",
        "bigram_finder=BigramCollocationFinder.from_words(filtered_tokens)\n",
        "bigram_finder.apply_freq_filter(1)  #filter low-frequency bigrams\n",
        "\n",
        "#score_ngrams returns [ ((w1,w2), score), ...]\n",
        "scored_bigrams=bigram_finder.score_ngrams(BigramAssocMeasures.pmi)\n",
        "\n",
        "#print Top 10\n",
        "for (w1,w2), score in scored_bigrams[:10]:\n",
        "  print(f\"{w1}-{w2} | PMI: {score:.4f}\")\n",
        "\n",
        "\n",
        "\n",
        "#TRIGRAMS\n",
        "print(\"\\n=== 📌 TOP TRIGRAM COLLOCATIONS (with PMI scores)===\\n \")\n",
        "trigram_finder=TrigramCollocationFinder.from_words(filtered_tokens)\n",
        "trigram_finder.apply_freq_filter(1)  #filter low-frequency bigrams\n",
        "\n",
        "#score_ngrams returns [ ((w1,w2,w3), score), ...]\n",
        "scored_trigrams=trigram_finder.score_ngrams(TrigramAssocMeasures.pmi)\n",
        "\n",
        "#print Top 10\n",
        "for (w1,w2,w3), score in scored_trigrams[:10]:\n",
        "  print(f\"{w1}-{w2}-{w3} | PMI: {score:.4f}\")\n",
        "\n"
      ],
      "metadata": {
        "colab": {
          "base_uri": "https://localhost:8080/"
        },
        "id": "AMtehy8y2syV",
        "outputId": "8b02f456-1e39-4845-848a-41161c61b4e5"
      },
      "execution_count": null,
      "outputs": [
        {
          "output_type": "stream",
          "name": "stdout",
          "text": [
            "\n",
            "=== 📌 TOP BIGRAM COLLOCATIONS (with PMI scores)===\n",
            " \n",
            "appear-together | PMI: 4.8074\n",
            "area-artificial | PMI: 4.8074\n",
            "chance-example | PMI: 4.8074\n",
            "collocations-pairs | PMI: 4.8074\n",
            "computers-understand | PMI: 4.8074\n",
            "deals-computers | PMI: 4.8074\n",
            "example-'artificial | PMI: 4.8074\n",
            "fascinating-area | PMI: 4.8074\n",
            "generate-human | PMI: 4.8074\n",
            "often-chance | PMI: 4.8074\n",
            "\n",
            "=== 📌 TOP TRIGRAM COLLOCATIONS (with PMI scores)===\n",
            " \n",
            "appear-together-often | PMI: 9.6147\n",
            "chance-example-'artificial | PMI: 9.6147\n",
            "collocations-pairs-words | PMI: 9.6147\n",
            "computers-understand-generate | PMI: 9.6147\n",
            "deals-computers-understand | PMI: 9.6147\n",
            "fascinating-area-artificial | PMI: 9.6147\n",
            "often-chance-example | PMI: 9.6147\n",
            "pairs-words-appear | PMI: 9.6147\n",
            "processing-fascinating-area | PMI: 9.6147\n",
            "together-often-chance | PMI: 9.6147\n"
          ]
        },
        {
          "output_type": "stream",
          "name": "stderr",
          "text": [
            "[nltk_data] Downloading package punkt_tab to /root/nltk_data...\n",
            "[nltk_data]   Package punkt_tab is already up-to-date!\n",
            "[nltk_data] Downloading package stopwords to /root/nltk_data...\n",
            "[nltk_data]   Package stopwords is already up-to-date!\n"
          ]
        }
      ]
    }
  ]
}