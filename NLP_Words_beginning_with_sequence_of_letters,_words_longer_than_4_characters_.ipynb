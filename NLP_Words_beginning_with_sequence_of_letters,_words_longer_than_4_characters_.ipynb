{
  "nbformat": 4,
  "nbformat_minor": 0,
  "metadata": {
    "colab": {
      "provenance": [],
      "authorship_tag": "ABX9TyPwisc4ao6q6MZuZhbBWjM5",
      "include_colab_link": true
    },
    "kernelspec": {
      "name": "python3",
      "display_name": "Python 3"
    },
    "language_info": {
      "name": "python"
    }
  },
  "cells": [
    {
      "cell_type": "markdown",
      "metadata": {
        "id": "view-in-github",
        "colab_type": "text"
      },
      "source": [
        "<a href=\"https://colab.research.google.com/github/snehavyshnavi/Natural-Language-Processing/blob/main/NLP_Words_beginning_with_sequence_of_letters%2C_words_longer_than_4_characters_.ipynb\" target=\"_parent\"><img src=\"https://colab.research.google.com/assets/colab-badge.svg\" alt=\"Open In Colab\"/></a>"
      ]
    },
    {
      "cell_type": "code",
      "execution_count": null,
      "metadata": {
        "colab": {
          "base_uri": "https://localhost:8080/"
        },
        "id": "9TNXHvOoh9i-",
        "outputId": "8bdad903-35e7-4ad4-8dd7-473d43dd8ffd"
      },
      "outputs": [
        {
          "output_type": "stream",
          "name": "stdout",
          "text": [
            "['Natural', 'language', 'processing', 'is', 'a', 'fascinating', 'area', 'of', 'artificial', 'intelligence.', 'It', 'deals', 'with', 'how', 'computers', 'understand', 'and', 'generate', 'human', 'language.']\n",
            "Enter the starting sequence: i\n",
            "Words beginning with 'i': \n",
            "is\n",
            "intelligence\n",
            "it\n"
          ]
        }
      ],
      "source": [
        "#program to print all the words beginning with a given sequence of letters\n",
        "\n",
        "#Sample test or list of words\n",
        "text= \"\"\"Natural language processing is a fascinating area of \\\n",
        "        artificial intelligence.\n",
        "    It deals with how computers understand and generate human language.\"\"\"\n",
        "\n",
        "#convert text to a list of words\n",
        "words=text.split()\n",
        "print(words)\n",
        "#Ask user for the sequence of letters\n",
        "prefix = input(\"Enter the starting sequence: \").lower()\n",
        "\n",
        "#Loop through each word and check if it starts with the given prefix\n",
        "print(f\"Words beginning with '{prefix}': \")\n",
        "for word in words:\n",
        "    #Remove punctuation at the end of words\n",
        "    clean_word = word.strip('.,!?;:').lower()\n",
        "    if clean_word.startswith(prefix):\n",
        "      print(clean_word)"
      ]
    },
    {
      "cell_type": "code",
      "source": [
        "#sample text\n",
        "text= \"Natural language processing is a\\\n",
        "    fascinating area of artificial intelligence.\"\n",
        "\n",
        "#split the text into words\n",
        "words=text.split()\n",
        "\n",
        "#print words longer than 4 characters\n",
        "print(\"Words longer than 4 characters: \")\n",
        "for word in words:\n",
        "    #Remove punctuations\n",
        "    clean_word=word.strip('.,!?;:').lower()\n",
        "    if len(clean_word)>4:\n",
        "        print(clean_word)\n"
      ],
      "metadata": {
        "colab": {
          "base_uri": "https://localhost:8080/"
        },
        "id": "xdncUfOVwWRs",
        "outputId": "f180fa2e-da47-4bc4-8b50-213d1b85a54a"
      },
      "execution_count": null,
      "outputs": [
        {
          "output_type": "stream",
          "name": "stdout",
          "text": [
            "Words longer than 4 characters: \n",
            "natural\n",
            "language\n",
            "processing\n",
            "fascinating\n",
            "artificial\n",
            "intelligence\n"
          ]
        }
      ]
    }
  ]
}