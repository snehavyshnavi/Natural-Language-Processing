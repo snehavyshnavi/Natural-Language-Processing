{
  "nbformat": 4,
  "nbformat_minor": 0,
  "metadata": {
    "colab": {
      "provenance": [],
      "authorship_tag": "ABX9TyPLlxwJpxJw/IH8czo0g+K0",
      "include_colab_link": true
    },
    "kernelspec": {
      "name": "python3",
      "display_name": "Python 3"
    },
    "language_info": {
      "name": "python"
    }
  },
  "cells": [
    {
      "cell_type": "markdown",
      "metadata": {
        "id": "view-in-github",
        "colab_type": "text"
      },
      "source": [
        "<a href=\"https://colab.research.google.com/github/snehavyshnavi/Natural-Language-Processing/blob/main/NLP_Mathematical_Expression_of_given_sentence.ipynb\" target=\"_parent\"><img src=\"https://colab.research.google.com/assets/colab-badge.svg\" alt=\"Open In Colab\"/></a>"
      ]
    },
    {
      "cell_type": "code",
      "execution_count": null,
      "metadata": {
        "colab": {
          "base_uri": "https://localhost:8080/"
        },
        "id": "dE2ec9Zo3tve",
        "outputId": "c3f4942e-26e8-4d47-888b-2ed17b55ab19"
      },
      "outputs": [
        {
          "output_type": "stream",
          "name": "stdout",
          "text": [
            "Enter a paragraph with math expressions (with or without spaces): e=MC^2\n",
            "\n",
            "Mathematical Expressions Found\n",
            "e=MC^2\n"
          ]
        }
      ],
      "source": [
        "def is_operation(token):\n",
        "  return token in ['+','-','*','/','^','=','{','}']\n",
        "def is_operand(token):\n",
        "  return token.replace('.','',1).isdigit() or token.isalpha()\n",
        "\n",
        "def tokenize(text):\n",
        "  \"\"\"Tokenize the text into a list of clean tokens.\"\"\"\n",
        "  tokens = []\n",
        "  current = ''\n",
        "  for ch in text:\n",
        "    if ch in '+-*/^=()':\n",
        "      if current:\n",
        "        tokens.append(current.strip())\n",
        "        current  = ''\n",
        "      tokens.append(ch)\n",
        "    elif ch.isalnum() or ch == '.': # Corrected isalum() to isalnum()\n",
        "      current += ch\n",
        "    else:\n",
        "      if current:\n",
        "        tokens.append(current.strip())\n",
        "        current = ''\n",
        "      tokens.append(current.strip())\n",
        "  if current:\n",
        "      tokens.append(current.strip())\n",
        "  return [token for token in tokens if token] # Remove empty strings\n",
        "\n",
        "def extract_math_expressions(tokens):\n",
        "  expressions=[]\n",
        "  current_expr = []\n",
        "  expression_started = False\n",
        "  valid_tokens = set({'+','-','*','/','^','=','(',')'})\n",
        "\n",
        "  for token in tokens:\n",
        "    token = token.strip()\n",
        "    if not token:\n",
        "      continue\n",
        "\n",
        "    if is_operand(token) or is_operation(token) or token in valid_tokens:\n",
        "      current_expr.append(token)\n",
        "      expression_started = True\n",
        "    else:\n",
        "      if expression_started and len(current_expr) >= 3:\n",
        "        expressions.append(''.join(current_expr))\n",
        "        current_expr = []\n",
        "        expression_started = False\n",
        "      elif expression_started:\n",
        "        current_expr = []\n",
        "        expression_started = False\n",
        "  if expression_started and len(current_expr) >=3:\n",
        "      expressions.append(''.join(current_expr))\n",
        "\n",
        "  return expressions\n",
        "\n",
        "paragraph= input(\"Enter a paragraph with math expressions (with or without spaces): \")\n",
        "\"\"\"In physics, force is calculated using F=m* and energy\\\n",
        "is given by E=m*c^2\"\"\"\n",
        "\n",
        "tokens = tokenize(paragraph)\n",
        "math_expressions = extract_math_expressions(tokens)\n",
        "\n",
        "print(\"\\nMathematical Expressions Found\")\n",
        "if math_expressions:\n",
        "  for expr in math_expressions:\n",
        "    print(expr)\n",
        "\n",
        "else:\n",
        "  print(\"No valid expressions found\")"
      ]
    }
  ]
}