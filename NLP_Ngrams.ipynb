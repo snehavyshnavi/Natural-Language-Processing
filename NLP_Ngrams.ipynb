{
  "nbformat": 4,
  "nbformat_minor": 0,
  "metadata": {
    "colab": {
      "provenance": [],
      "authorship_tag": "ABX9TyPBvGbwv+UFeEWzuFEmpnSd",
      "include_colab_link": true
    },
    "kernelspec": {
      "name": "python3",
      "display_name": "Python 3"
    },
    "language_info": {
      "name": "python"
    }
  },
  "cells": [
    {
      "cell_type": "markdown",
      "metadata": {
        "id": "view-in-github",
        "colab_type": "text"
      },
      "source": [
        "<a href=\"https://colab.research.google.com/github/snehavyshnavi/Natural-Language-Processing/blob/main/NLP_Ngrams.ipynb\" target=\"_parent\"><img src=\"https://colab.research.google.com/assets/colab-badge.svg\" alt=\"Open In Colab\"/></a>"
      ]
    },
    {
      "cell_type": "code",
      "execution_count": null,
      "metadata": {
        "colab": {
          "base_uri": "https://localhost:8080/"
        },
        "id": "ToCYfZ-ooAZB",
        "outputId": "72394d56-a2af-42b2-8754-5575c8c1f785"
      },
      "outputs": [
        {
          "output_type": "stream",
          "name": "stdout",
          "text": [
            "--- List of Unigrams ---\n",
            "('Education',)\n",
            "('empowers',)\n",
            "('students',)\n",
            "('to',)\n",
            "('learn',)\n",
            "('and',)\n",
            "('education',)\n",
            "('helps',)\n",
            "('teachers',)\n",
            "('to',)\n",
            "('guide',)\n",
            "('and',)\n",
            "('education',)\n",
            "('creates',)\n",
            "('opportinities',)\n",
            "('to',)\n",
            "('learn',)\n",
            "('and',)\n",
            "('grow',)\n",
            "('in',)\n",
            "('education',)\n",
            "('systems',)\n",
            "('around',)\n",
            "('the',)\n",
            "('world.',)\n",
            "\n",
            "--- List of Bigrams ---\n",
            "('Education', 'empowers')\n",
            "('empowers', 'students')\n",
            "('students', 'to')\n",
            "('to', 'learn')\n",
            "('learn', 'and')\n",
            "('and', 'education')\n",
            "('education', 'helps')\n",
            "('helps', 'teachers')\n",
            "('teachers', 'to')\n",
            "('to', 'guide')\n",
            "('guide', 'and')\n",
            "('and', 'education')\n",
            "('education', 'creates')\n",
            "('creates', 'opportinities')\n",
            "('opportinities', 'to')\n",
            "('to', 'learn')\n",
            "('learn', 'and')\n",
            "('and', 'grow')\n",
            "('grow', 'in')\n",
            "('in', 'education')\n",
            "('education', 'systems')\n",
            "('systems', 'around')\n",
            "('around', 'the')\n",
            "('the', 'world.')\n",
            "\n",
            "--- List of Trigrams ---\n",
            "('Education', 'empowers', 'students')\n",
            "('empowers', 'students', 'to')\n",
            "('students', 'to', 'learn')\n",
            "('to', 'learn', 'and')\n",
            "('learn', 'and', 'education')\n",
            "('and', 'education', 'helps')\n",
            "('education', 'helps', 'teachers')\n",
            "('helps', 'teachers', 'to')\n",
            "('teachers', 'to', 'guide')\n",
            "('to', 'guide', 'and')\n",
            "('guide', 'and', 'education')\n",
            "('and', 'education', 'creates')\n",
            "('education', 'creates', 'opportinities')\n",
            "('creates', 'opportinities', 'to')\n",
            "('opportinities', 'to', 'learn')\n",
            "('to', 'learn', 'and')\n",
            "('learn', 'and', 'grow')\n",
            "('and', 'grow', 'in')\n",
            "('grow', 'in', 'education')\n",
            "('in', 'education', 'systems')\n",
            "('education', 'systems', 'around')\n",
            "('systems', 'around', 'the')\n",
            "('around', 'the', 'world.')\n",
            "\n",
            "---List of Quadgrams ---\n",
            "('Education', 'empowers', 'students', 'to')\n",
            "('empowers', 'students', 'to', 'learn')\n",
            "('students', 'to', 'learn', 'and')\n",
            "('to', 'learn', 'and', 'education')\n",
            "('learn', 'and', 'education', 'helps')\n",
            "('and', 'education', 'helps', 'teachers')\n",
            "('education', 'helps', 'teachers', 'to')\n",
            "('helps', 'teachers', 'to', 'guide')\n",
            "('teachers', 'to', 'guide', 'and')\n",
            "('to', 'guide', 'and', 'education')\n",
            "('guide', 'and', 'education', 'creates')\n",
            "('and', 'education', 'creates', 'opportinities')\n",
            "('education', 'creates', 'opportinities', 'to')\n",
            "('creates', 'opportinities', 'to', 'learn')\n",
            "('opportinities', 'to', 'learn', 'and')\n",
            "('to', 'learn', 'and', 'grow')\n",
            "('learn', 'and', 'grow', 'in')\n",
            "('and', 'grow', 'in', 'education')\n",
            "('grow', 'in', 'education', 'systems')\n",
            "('in', 'education', 'systems', 'around')\n",
            "('education', 'systems', 'around', 'the')\n",
            "('systems', 'around', 'the', 'world.')\n"
          ]
        }
      ],
      "source": [
        "from nltk.util import ngrams\n",
        "text=\"Education empowers students to learn and education\\\n",
        "  helps teachers to guide and education creates\\\n",
        "  opportinities to learn and grow in education systems around\\\n",
        "  the world.\"\n",
        "words=text.split()\n",
        "unigrams=(ngrams(words,1))\n",
        "bigrams=(ngrams(words,2))\n",
        "trigrams=(ngrams(words,3))\n",
        "quadgrams=(ngrams(words,4))\n",
        "\n",
        "print(\"--- List of Unigrams ---\")\n",
        "for grams in unigrams:\n",
        "    print(grams)\n",
        "\n",
        "print(\"\\n--- List of Bigrams ---\")\n",
        "for grams in bigrams:\n",
        "    print(grams)\n",
        "\n",
        "print(\"\\n--- List of Trigrams ---\")\n",
        "for grams in trigrams:\n",
        "    print(grams)\n",
        "\n",
        "print(\"\\n---List of Quadgrams ---\")\n",
        "for grams in quadgrams:\n",
        "    print(grams)"
      ]
    },
    {
      "cell_type": "code",
      "source": [
        "def get_unigrams(words):\n",
        "  \"\"\"Return list of unigrams (single words).\"\"\"\n",
        "  return [(words[i],) for i in range(len(words))]\n",
        "\n",
        "def get_bigrams(words):\n",
        "  \"\"\"Return list of bigrams (pair of consecutive words).\"\"\"\n",
        "  return [(words[i], words[i+1]) for i in range(len(words)-1)]\n",
        "\n",
        "\n",
        "def get_trigrams(words):\n",
        "  \"\"\"Return list of trigrams (triplets of consecutive words).\"\"\"\n",
        "  return [(words[i], words[i+1], words[i+2]) for i in range(len(words)-2)]\n",
        "\n",
        "\n",
        "def get_quadgrams(words):\n",
        "  \"\"\"Return list of quadgrams (quadruplets of consecutive words).\"\"\"\n",
        "  return [(words[i], words[i+1], words[i+2]) for i in range(len(words)-1)]\n",
        "\n",
        "def get_ngrams(words,n):\n",
        "  \"\"\"Return list of n-grams(n consecutive words).\"\"\"\n",
        "  return[tuple(words[i:i+1]) for i in range(len(words))]\n",
        "\n",
        "unigrams=get_unigrams(words)\n",
        "bigrams=get_bigrams(words)\n",
        "trigrams=get_trigrams(words)\n",
        "fourgrams=get_ngrams(words,4)\n",
        "\n",
        "print(\"Original Text:\",text)\n",
        "print(\"\\nUnigrams:\")\n",
        "print(unigrams)\n",
        "print(\"\\nBigrams:\")\n",
        "print(bigrams)\n",
        "print(\"\\nTrigrams:\")\n",
        "print(trigrams)\n",
        "print(\"\\nN-grams:\")\n",
        "print(fourgrams)\n",
        "\n",
        "\n",
        "\n"
      ],
      "metadata": {
        "colab": {
          "base_uri": "https://localhost:8080/"
        },
        "id": "i5L_cdoD3DDF",
        "outputId": "5c0bc4ad-c877-427b-80da-57a92664327a"
      },
      "execution_count": null,
      "outputs": [
        {
          "output_type": "stream",
          "name": "stdout",
          "text": [
            "Original Text: Education empowers students to learn and education  helps teachers to guide and education creates  opportinities to learn and grow in education systems around  the world.\n",
            "\n",
            "Unigrams:\n",
            "[('Education',), ('empowers',), ('students',), ('to',), ('learn',), ('and',), ('education',), ('helps',), ('teachers',), ('to',), ('guide',), ('and',), ('education',), ('creates',), ('opportinities',), ('to',), ('learn',), ('and',), ('grow',), ('in',), ('education',), ('systems',), ('around',), ('the',), ('world.',)]\n",
            "\n",
            "Bigrams:\n",
            "[('Education', 'empowers'), ('empowers', 'students'), ('students', 'to'), ('to', 'learn'), ('learn', 'and'), ('and', 'education'), ('education', 'helps'), ('helps', 'teachers'), ('teachers', 'to'), ('to', 'guide'), ('guide', 'and'), ('and', 'education'), ('education', 'creates'), ('creates', 'opportinities'), ('opportinities', 'to'), ('to', 'learn'), ('learn', 'and'), ('and', 'grow'), ('grow', 'in'), ('in', 'education'), ('education', 'systems'), ('systems', 'around'), ('around', 'the'), ('the', 'world.')]\n",
            "\n",
            "Trigrams:\n",
            "[('Education', 'empowers', 'students'), ('empowers', 'students', 'to'), ('students', 'to', 'learn'), ('to', 'learn', 'and'), ('learn', 'and', 'education'), ('and', 'education', 'helps'), ('education', 'helps', 'teachers'), ('helps', 'teachers', 'to'), ('teachers', 'to', 'guide'), ('to', 'guide', 'and'), ('guide', 'and', 'education'), ('and', 'education', 'creates'), ('education', 'creates', 'opportinities'), ('creates', 'opportinities', 'to'), ('opportinities', 'to', 'learn'), ('to', 'learn', 'and'), ('learn', 'and', 'grow'), ('and', 'grow', 'in'), ('grow', 'in', 'education'), ('in', 'education', 'systems'), ('education', 'systems', 'around'), ('systems', 'around', 'the'), ('around', 'the', 'world.')]\n",
            "\n",
            "N-grams:\n",
            "[('Education',), ('empowers',), ('students',), ('to',), ('learn',), ('and',), ('education',), ('helps',), ('teachers',), ('to',), ('guide',), ('and',), ('education',), ('creates',), ('opportinities',), ('to',), ('learn',), ('and',), ('grow',), ('in',), ('education',), ('systems',), ('around',), ('the',), ('world.',)]\n"
          ]
        }
      ]
    },
    {
      "cell_type": "code",
      "source": [
        "from collections import  defaultdict\n",
        "\n",
        "def highest_probability(text):\n",
        "  words=text.split()\n",
        "  bigram_counts = defaultdict(lambda: defaultdict(int))\n",
        "  first_word_counts= defaultdict(int)\n",
        "\n",
        "  for i in range(len(words)-1):\n",
        "    w1=words[i]\n",
        "    w2= words[i+1]\n",
        "    bigram_counts[w1][w2] +=1\n",
        "    first_word_counts[w1]+=1\n",
        "\n",
        "    result={}\n",
        "    for w1 in bigram_counts:\n",
        "      max_prob=0\n",
        "      best_w2= None\n",
        "      for w2 in bigram_counts[w1]:\n",
        "        prob=bigram_counts[w1][w2]/first_word_counts[w1]\n",
        "        if prob>max_prob:\n",
        "          max_prob= max_prob\n",
        "          best_w2= best_w2\n",
        "      result[w1]=(best_w2,max_prob)\n",
        "    return result\n",
        "text=\"Education empowers students to learn and \\\n",
        " education helps teachers to guide and education creates opportinities to learn and grow in education \\\n",
        " systems around the world.\"\n",
        "output= highest_probability(text)\n",
        "print(\"Highest probability of a word (w2) occuring after another word(w1):\")\n",
        "for w1, (w2,prob) in output.items():\n",
        "  print(f\"After '{w1}' -> '{w2}' with probability {prob:.2f}\")"
      ],
      "metadata": {
        "colab": {
          "base_uri": "https://localhost:8080/"
        },
        "id": "yX4Sh720CqRt",
        "outputId": "5b73bafa-8622-47c4-ba9a-7bcd3219bd20"
      },
      "execution_count": null,
      "outputs": [
        {
          "output_type": "stream",
          "name": "stdout",
          "text": [
            "Highest probability of a word (w2) occuring after another word(w1):\n",
            "After 'Education' -> 'None' with probability 0.00\n"
          ]
        }
      ]
    }
  ]
}