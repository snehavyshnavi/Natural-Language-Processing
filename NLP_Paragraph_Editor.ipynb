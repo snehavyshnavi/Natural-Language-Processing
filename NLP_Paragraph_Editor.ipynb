{
  "cells": [
    {
      "cell_type": "markdown",
      "metadata": {
        "id": "view-in-github",
        "colab_type": "text"
      },
      "source": [
        "<a href=\"https://colab.research.google.com/github/snehavyshnavi/Natural-Language-Processing/blob/main/NLP_Paragraph_Editor.ipynb\" target=\"_parent\"><img src=\"https://colab.research.google.com/assets/colab-badge.svg\" alt=\"Open In Colab\"/></a>"
      ]
    },
    {
      "cell_type": "code",
      "source": [
        "\n",
        "\n",
        "def paragraph_editor():\n",
        "    \"\"\"\n",
        "    Prompts the user for a multi-line paragraph, prints it,\n",
        "    and then suggests an edit for the word 'god'.\n",
        "    \"\"\"\n",
        "    print(\"Please enter your 10-line paragraph. Press Enter twice when you are done:\")\n",
        "\n",
        "    # Read multiple lines of input until an empty line is encountered\n",
        "    paragraph_lines = []\n",
        "    while True:\n",
        "        line = input()\n",
        "        if not line: # Break if an empty line is entered\n",
        "            break\n",
        "        paragraph_lines.append(line)\n",
        "\n",
        "    # Join the lines to form the complete paragraph\n",
        "    user_paragraph = \"\\n\".join(paragraph_lines)\n",
        "\n",
        "    if not user_paragraph.strip():\n",
        "        print(\"\\nYou didn't enter any paragraph. Please try again.\")\n",
        "        return\n",
        "\n",
        "    print(\"\\n--- Your Paragraph ---\")\n",
        "    print(user_paragraph)\n",
        "    print(\"----------------------\\n\")\n",
        "\n",
        "    # Define the target word and its suggested edits\n",
        "    target_word = \"god\"\n",
        "    suggestion_format = f\"{target_word} next good next go_d\"\n",
        "\n",
        "    # Check if the target word exists in the paragraph (case-insensitive)\n",
        "    if target_word.lower() in user_paragraph.lower():\n",
        "        print(\"Suggested Edit:\")\n",
        "        print(suggestion_format)\n",
        "    else:\n",
        "        print(f\"The word '{target_word}' was not found in your paragraph. No specific edit suggested.\")\n",
        "\n",
        "# Run the program\n",
        "if __name__ == \"__main__\":\n",
        "    paragraph_editor()"
      ],
      "outputs": [
        {
          "name": "stdout",
          "output_type": "stream",
          "text": [
            "Please enter your 10-line paragraph. Press Enter twice when you are done:\n",
            "In the tapestry of faith, God's goodness shines, a beacon of hope and love. God is the source of all that is good, guiding us through life's trials with unwavering compassion. His presence offers solace in moments of despair and inspiration in times of joy. To believe in God is to trust in a power greater than ourselves, a force that shapes our destinies and orchestrates the universe. Through prayer and contemplation, we connect with this divine essence, seeking guidance and strength. God's love is unconditional, embracing us in all our imperfections.\n",
            "Gos\n",
            "Dood\n",
            "Good\n",
            "D\n"
          ]
        }
      ],
      "execution_count": null,
      "metadata": {
        "colab": {
          "base_uri": "https://localhost:8080/"
        },
        "id": "eKJuBnUgDgBD",
        "outputId": "da4c2a5b-6f40-44b0-fdea-e455133107d3"
      }
    }
  ],
  "metadata": {
    "colab": {
      "provenance": [],
      "include_colab_link": true
    },
    "kernelspec": {
      "display_name": "Python 3",
      "name": "python3"
    }
  },
  "nbformat": 4,
  "nbformat_minor": 0
}