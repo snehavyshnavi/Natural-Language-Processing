{
  "nbformat": 4,
  "nbformat_minor": 0,
  "metadata": {
    "colab": {
      "provenance": [],
      "authorship_tag": "ABX9TyNA/wEaOV7BBDcNUgqIUYBH",
      "include_colab_link": true
    },
    "kernelspec": {
      "name": "python3",
      "display_name": "Python 3"
    },
    "language_info": {
      "name": "python"
    }
  },
  "cells": [
    {
      "cell_type": "markdown",
      "metadata": {
        "id": "view-in-github",
        "colab_type": "text"
      },
      "source": [
        "<a href=\"https://colab.research.google.com/github/snehavyshnavi/Natural-Language-Processing/blob/main/NLP_Hyponyms%2Chomonyms%2Cpolysemy.ipynb\" target=\"_parent\"><img src=\"https://colab.research.google.com/assets/colab-badge.svg\" alt=\"Open In Colab\"/></a>"
      ]
    },
    {
      "cell_type": "code",
      "source": [
        "#b program to find hyponyms,homonyms,polysemy for a given word.\n",
        "import nltk\n",
        "from nltk.corpus import wordnet\n",
        "nltk.download('wordnet')\n",
        "nltk.download('omw-1.4')\n",
        "def get_hyponyms(word):\n",
        "  hyponyms=set()\n",
        "  for syn in wordnet.synsets(word):\n",
        "    for hypo in syn.hyponyms():\n",
        "      for lemma in hypo.lemmas():\n",
        "        hyponyms.add(lemma.name())\n",
        "  return sorted(hyponyms)\n",
        "def get_polysemy(word):\n",
        "  senses = wordnet.synsets(word)\n",
        "  return senses if senses else None\n",
        "def get_homonyms(word):\n",
        "  homonyms=set()\n",
        "  original_senses=wordnet.synsets(word)\n",
        "  for sense in original_senses:\n",
        "    for lemma in sense.lemmas():\n",
        "      if lemma.name()!=word:\n",
        "        other_senses=wordnet.synsets(lemma.name())\n",
        "        for osyn in other_senses:\n",
        "          if osyn.name().split('.')[0]==lemma.name()and osyn not in original_senses:\n",
        "            homonyms.add(lemma.name())\n",
        "    return sorted(homonyms)\n",
        "def display_word_relations(word):\n",
        "  print(f\"\\Word: {word}\\n{'-'*40}\")\n",
        "  #hyponyms\n",
        "  hypos=get_hyponyms(word)\n",
        "  print(f\"\\nHyponyms(More specific type):\")\n",
        "  print(\", \".join(hypos) if hypos else \"No hyponyms found\")\n",
        "  #polysemy\n",
        "  senses=get_polysemy(word)\n",
        "  print(f\"\\nPolysemy(Number of senses):{len(senses)}\")\n",
        "  for i,sense in enumerate(senses,start=1):\n",
        "    print(f\"\\nSense {i}: {sense.definition()}\")\n",
        "  #homonyms\n",
        "  hons=get_homonyms(word)\n",
        "  print(f\"\\nHomonyms( Same word,different meanings):\")\n",
        "  print(\", \".join(hons) if hons else \"No homonyms found\")\n",
        "#example usage\n",
        "if __name__==\"__main__\":\n",
        "  input_word=input(\"Enter a word:\").strip().lower()\n",
        "  display_word_relations(input_word)"
      ],
      "metadata": {
        "colab": {
          "base_uri": "https://localhost:8080/"
        },
        "id": "-6Y_js4tGy7B",
        "outputId": "cc56a501-5f7f-432d-80b3-f773751bc4b2"
      },
      "execution_count": null,
      "outputs": [
        {
          "output_type": "stream",
          "name": "stderr",
          "text": [
            "[nltk_data] Downloading package wordnet to /root/nltk_data...\n",
            "[nltk_data]   Package wordnet is already up-to-date!\n",
            "[nltk_data] Downloading package omw-1.4 to /root/nltk_data...\n",
            "[nltk_data]   Package omw-1.4 is already up-to-date!\n"
          ]
        },
        {
          "output_type": "stream",
          "name": "stdout",
          "text": [
            "Enter a word:good\n",
            "\\Word: good\n",
            "----------------------------------------\n",
            "\n",
            "Hyponyms(More specific type):\n",
            "basic, beneficence, benefit, benignancy, benignity, better, common_good, commonweal, consumer_goods, desirability, desirableness, drygoods, entrant, export, exportation, fancy_goods, fungible, future, graciousness, import, importation, kindness, merchandise, middling, moral_excellence, optimum, product, saintliness, salvage, shopping, soft_goods, soundness, sporting_goods, staple, summum_bonum, virtue, virtuousness, ware, welfare, wisdom, wiseness, worldly_good, worldly_possession, worthiness\n",
            "\n",
            "Polysemy(Number of senses):27\n",
            "\n",
            "Sense 1: benefit\n",
            "\n",
            "Sense 2: moral excellence or admirableness\n",
            "\n",
            "Sense 3: that which is pleasing or valuable or useful\n",
            "\n",
            "Sense 4: articles of commerce\n",
            "\n",
            "Sense 5: having desirable or positive qualities especially those suitable for a thing specified\n",
            "\n",
            "Sense 6: having the normally expected amount\n",
            "\n",
            "Sense 7: morally admirable\n",
            "\n",
            "Sense 8: deserving of esteem and respect\n",
            "\n",
            "Sense 9: promoting or enhancing well-being\n",
            "\n",
            "Sense 10: agreeable or pleasing\n",
            "\n",
            "Sense 11: of moral excellence\n",
            "\n",
            "Sense 12: having or showing knowledge and skill and aptitude\n",
            "\n",
            "Sense 13: thorough\n",
            "\n",
            "Sense 14: with or in a close or intimate relationship\n",
            "\n",
            "Sense 15: financially sound\n",
            "\n",
            "Sense 16: most suitable or right for a particular purpose\n",
            "\n",
            "Sense 17: resulting favorably\n",
            "\n",
            "Sense 18: exerting force or influence\n",
            "\n",
            "Sense 19: capable of pleasing\n",
            "\n",
            "Sense 20: appealing to the mind\n",
            "\n",
            "Sense 21: in excellent physical condition\n",
            "\n",
            "Sense 22: tending to promote physical well-being; beneficial to health\n",
            "\n",
            "Sense 23: not forged\n",
            "\n",
            "Sense 24: not left to spoil\n",
            "\n",
            "Sense 25: generally admired\n",
            "\n",
            "Sense 26: (often used as a combining form) in a good or proper or satisfactory manner or to a high standard (`good' is a nonstandard dialectal variant for `well')\n",
            "\n",
            "Sense 27: completely and absolutely (`good' is sometimes used informally for `thoroughly')\n",
            "\n",
            "Homonyms( Same word,different meanings):\n",
            "No homonyms found\n"
          ]
        }
      ]
    }
  ]
}